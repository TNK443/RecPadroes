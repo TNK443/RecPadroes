{
  "nbformat": 4,
  "nbformat_minor": 0,
  "metadata": {
    "colab": {
      "name": "07_Generalizacao_AjusteCaractTITANIC.ipynb",
      "provenance": [],
      "collapsed_sections": [],
      "authorship_tag": "ABX9TyPwhNmEMgXBqsUoik53E2Oo",
      "include_colab_link": true
    },
    "kernelspec": {
      "name": "python3",
      "display_name": "Python 3"
    },
    "language_info": {
      "name": "python"
    }
  },
  "cells": [
    {
      "cell_type": "markdown",
      "metadata": {
        "id": "view-in-github",
        "colab_type": "text"
      },
      "source": [
        "<a href=\"https://colab.research.google.com/github/TNK443/RecPadroes/blob/main/07_Generalizacao_AjusteCaractTITANIC.ipynb\" target=\"_parent\"><img src=\"https://colab.research.google.com/assets/colab-badge.svg\" alt=\"Open In Colab\"/></a>"
      ]
    },
    {
      "cell_type": "markdown",
      "metadata": {
        "id": "e9XdHhib8msI"
      },
      "source": [
        "# **Ajuste de Características**"
      ]
    },
    {
      "cell_type": "markdown",
      "metadata": {
        "id": "MMgRqSER8yGd"
      },
      "source": [
        "## Esta tarefa tem duas partes:"
      ]
    },
    {
      "cell_type": "markdown",
      "metadata": {
        "id": "FGJ3Kmyg84UF"
      },
      "source": [
        "### **PARTE 1.**\n",
        "\n",
        "Alterar o código compartilhado de forma que o desempenho de classificação do RepeatedKFold tenha um score mais alto na média (pelo menos 0.85). Pode ser apenas escolhendo um conjunto de parâmetros no grid search, escolhendo melhor os atributos ou tratanto melhor as características."
      ]
    },
    {
      "cell_type": "code",
      "metadata": {
        "id": "m56fmeknW7-9"
      },
      "source": [
        "import pandas as pd\n",
        "train = pd.read_csv('train.csv')\n",
        "test = pd.read_csv('test.csv')\n",
        "X = train[list(test.columns)]\n",
        "y = train[train.columns[~train.columns.isin(test.columns)]]"
      ],
      "execution_count": 1,
      "outputs": []
    },
    {
      "cell_type": "code",
      "metadata": {
        "id": "iSW8wj3a5eSi"
      },
      "source": [
        "from sklearn.base import BaseEstimator, TransformerMixin\n",
        "\n",
        "def extraiPronome(nome):\n",
        "    return nome.split(',')[1].split('.')[0].strip()\n",
        "\n",
        "class AtributosDesejados(BaseEstimator, TransformerMixin):\n",
        "    def __init__(self, excluirName=True):\n",
        "        self.excluirName = excluirName\n",
        "    def fit(self, X, y=None):\n",
        "        self.colunasIndesejadas = ['PassengerId','Ticket','Cabin']#,'Fare','Embarked']\n",
        "        if self.excluirName:\n",
        "            self.colunasIndesejadas.append('Name')\n",
        "        return self\n",
        "\n",
        "    def transform(self, X, y=None):\n",
        "        Xdrop = X.drop(self.colunasIndesejadas,axis=1)\n",
        "\n",
        "        if 'Name' not in self.colunasIndesejadas:\n",
        "            # Xdrop['Name'] = Xdrop['Name'].apply(extraiPronome)\n",
        "            Xdrop['Name'] = Xdrop['Name'].str.extract(' ([A-Za-z]+)\\.', expand=False)\n",
        "            title_mapping = {\"Mr\":0, \n",
        "                             \"Miss\":1, \"Mlle\":1, \"Ms\":1, \"Lady\":1,\n",
        "                             \"Mrs\":2, \"Mme\":2, \"Sir\":2,\n",
        "                             \"Master\":3, \"Dr\":3, \"Rev\":3, \"Col\":3, \"Major\":3, \"Countess\":3,\n",
        "                             \"Jonkheer\":3, \"Don\":3, \"Dona\":3, \"Capt\":3}\n",
        "            Xdrop['Name'] = Xdrop['Name'].map(title_mapping)\n",
        "\n",
        "        if 'Age' not in self.colunasIndesejadas:\n",
        "            Xdrop.loc[ Xdrop['Age'] <= 16, 'Age'] = 0\n",
        "            Xdrop.loc[(Xdrop['Age'] > 16) & (Xdrop['Age'] <= 26), 'Age'] = 1\n",
        "            Xdrop.loc[(Xdrop['Age'] > 26) & (Xdrop['Age'] <= 40), 'Age'] = 2\n",
        "            Xdrop.loc[(Xdrop['Age'] > 40) & (Xdrop['Age'] <= 60), 'Age'] = 3\n",
        "            Xdrop.loc[ Xdrop['Age'] > 60, 'Age'] = 4\n",
        "\n",
        "        return Xdrop"
      ],
      "execution_count": 2,
      "outputs": []
    },
    {
      "cell_type": "code",
      "metadata": {
        "id": "zPFTwt9H5fFW"
      },
      "source": [
        "from sklearn.base import BaseEstimator, TransformerMixin\n",
        "\n",
        "class AtributosNumericos(BaseEstimator, TransformerMixin):\n",
        "    def fit(self, X, y=None):\n",
        "        self.colunasNumericas = X.select_dtypes(include='number').columns\n",
        "        return self\n",
        "    def transform(self, X, y=None):\n",
        "        return X[self.colunasNumericas].to_numpy()"
      ],
      "execution_count": 3,
      "outputs": []
    },
    {
      "cell_type": "code",
      "metadata": {
        "id": "vBYlSFZf5fC1"
      },
      "source": [
        "from sklearn.base import BaseEstimator, TransformerMixin\n",
        "\n",
        "class AtributosCategoricos(BaseEstimator, TransformerMixin):\n",
        "    def fit(self, X, y=None):\n",
        "        self.colunasCategoricas = X.select_dtypes(include='object').columns\n",
        "        return self\n",
        "    def transform(self, X, y=None):\n",
        "        return X[self.colunasCategoricas].to_numpy()"
      ],
      "execution_count": 4,
      "outputs": []
    },
    {
      "cell_type": "code",
      "metadata": {
        "id": "lGqt5x1p5fAR"
      },
      "source": [
        "from sklearn.impute import SimpleImputer\n",
        "from sklearn.preprocessing import OneHotEncoder, StandardScaler\n",
        "from sklearn.pipeline import Pipeline, FeatureUnion\n",
        "\n",
        "trataAtributos = Pipeline([\n",
        "    ('unecaracteristicas', FeatureUnion([\n",
        "        ('pipenum', Pipeline([\n",
        "            ('atributos_numericos', AtributosNumericos()),\n",
        "            ('imputer', SimpleImputer(strategy='median')),\n",
        "            ('scaler', StandardScaler())\n",
        "        ])),\n",
        "        ('pipecat', Pipeline([\n",
        "            ('atributos_categoricos', AtributosCategoricos()),\n",
        "            ('imputer', SimpleImputer(strategy='most_frequent')),\n",
        "            ('encoder', OneHotEncoder(handle_unknown='ignore'))\n",
        "        ]))\n",
        "    ])),\n",
        "])"
      ],
      "execution_count": 5,
      "outputs": []
    },
    {
      "cell_type": "code",
      "metadata": {
        "colab": {
          "base_uri": "https://localhost:8080/"
        },
        "id": "_vYDh3V_5e9t",
        "outputId": "f27dda45-083b-4d8a-922c-d8f6dbbf8189"
      },
      "source": [
        "from sklearn.ensemble import RandomForestClassifier\n",
        "from sklearn.model_selection import GridSearchCV, cross_validate, RepeatedKFold\n",
        "import numpy as np\n",
        "\n",
        "pipetotal = Pipeline([\n",
        "    ('atributosDesejados', AtributosDesejados()),\n",
        "    ('trataAtributos', trataAtributos),\n",
        "    ('classificador', RandomForestClassifier())\n",
        "])\n",
        "\n",
        "parametros = {\n",
        "    'atributosDesejados__excluirName': [False],\n",
        "\n",
        "    # PARAMETROS DO CLASSIFICADOR = RANDOMFORESTCLASSIFIER()\n",
        "    'classificador__n_estimators':[7],                  #n_estimatorsint, default=100 [7,11]\n",
        "    'classificador__criterion': ['entropy',],           #{'gini', 'entropy'}, default='gini'\n",
        "    'classificador__max_depth': [4]                    #int, default=None\n",
        "    # 'classificador__min_samples_split':[7],             #int or float, default=2\n",
        "    # 'classificador__min_samples_leaf': [1]              #int or float, default=1\n",
        "    # 'classificador__min_weight_fraction_leaf': [0.0], #float, default=0.0\n",
        "    # 'classificador__max_features': ['auto'],          #{'auto', 'sqrt', 'log2'}, int or float, default='auto'\n",
        "    # 'classificador__max_leaf_nodes': [],              #int, default=None\n",
        "    # 'classificador__min_impurity_decrease': [0.0],    #float, default=0.0\n",
        "    # 'classificador__min_impurity_split': [],          #float, default=None\n",
        "    # 'classificador__bootstrap': [True],               #bool, default=True\n",
        "    # 'classificador__oob_score': [False],              #bool, default=False\n",
        "    # 'classificador__n_jobs': [],                      #int, default=None\n",
        "    # 'classificador__random_state': [],                #int, RandomState instance or None, default=None\n",
        "    # 'classificador__verbose': [0],                    #int, default=0\n",
        "    # 'classificador__warm_start': [False],             #bool, default=False\n",
        "    # 'classificador__class_weight': [],                #{'balanced', 'balanced_subsample'}, dict or list of dicts, default=None\n",
        "    # 'classificador__ccp_alpha': [0.0],                #non-negative float, default=0.0\n",
        "    # 'classificador__max_samples': []                  #int or float, default=None\n",
        "}\n",
        "modelo = GridSearchCV(pipetotal, param_grid=parametros\n",
        "                      # PARAMETROS DO CROSS_VALIDATE()\n",
        "                      ,scoring='roc_auc' #'roc_auc', #str, callable, list, tuple, or dict, default=None\n",
        "                              # For Classification:[    \n",
        "                              #'accuracy'(83),'balanced_accuracy'(80),'top_k_accuracy'(fail),'average_precision'(86),'neg_brier_score'(-12),\n",
        "                              #'f1'(75),'f1_micro'(82),'f1_macro'(81),'f1_weighted'(83),'f1_samples'(fail),\n",
        "                              #'neg_log_loss'(-42),'precision'(80),'recall'(73),'jaccard'(62),\n",
        "                              #'roc_auc'(87),'roc_auc_ovr'(86),'roc_auc_ovo'(86),'roc_auc_ovr_weighted'(87),'roc_auc_ovo_weighted'(86)]\n",
        "                      ,n_jobs=-1    #int, default=None || -1 means using all processors. \n",
        "                      # ,pre_dispatch='2*n_jobs') #int or str, default='2*n_jobs' \n",
        "                      # ,cv=RepeatedKFold(#PARAMETROS DO REPEATEDKFOLD()\n",
        "                                          # n_splits=10,     #int, default=5\n",
        "                                          # n_repeats=5,     #int, default=10\n",
        "                                          # random_state=None  #int, RandomState instance or None, default=None\n",
        "                                        # )\n",
        "                      # ,refit            #bool, str, or callable, default=True\n",
        "                      # ,verbose          #int\n",
        "                      # ,error_score      #'raise' or numeric, default=np.nan\n",
        "                      # ,turn_train_score #bool, default=False\n",
        "                      )\n",
        "\n",
        "scores = cross_validate(modelo, X, y, cv=RepeatedKFold(),n_jobs=-1)\n",
        "scores['test_score'], np.mean(scores['test_score']), np.std(scores['test_score'])"
      ],
      "execution_count": 6,
      "outputs": [
        {
          "output_type": "execute_result",
          "data": {
            "text/plain": [
              "(array([0.87662253, 0.83084577, 0.84839317, 0.88526507, 0.85984427,\n",
              "        0.86175918, 0.86046967, 0.81108974, 0.86804693, 0.9253337 ,\n",
              "        0.82967491, 0.87108974, 0.8586624 , 0.88562834, 0.84083496,\n",
              "        0.85131062, 0.88216991, 0.89540423, 0.82281746, 0.88724919,\n",
              "        0.86981013, 0.8745414 , 0.84854715, 0.88636682, 0.82068452,\n",
              "        0.87522523, 0.81288981, 0.88702725, 0.86187771, 0.85186688,\n",
              "        0.88641026, 0.89596861, 0.80530428, 0.85964912, 0.86862361,\n",
              "        0.82781672, 0.88398896, 0.87229092, 0.8863853 , 0.85401174,\n",
              "        0.83819102, 0.81739075, 0.86074561, 0.88825832, 0.91087571,\n",
              "        0.84525702, 0.84510281, 0.90002781, 0.8665107 , 0.86673077]),\n",
              " 0.8624177752892659,\n",
              " 0.02669848713671924)"
            ]
          },
          "metadata": {
            "tags": []
          },
          "execution_count": 6
        }
      ]
    },
    {
      "cell_type": "markdown",
      "metadata": {
        "id": "SgwYATMQ9D95"
      },
      "source": [
        "**np.mean(scores['test_score']): 0.8624177752892659**"
      ]
    },
    {
      "cell_type": "markdown",
      "metadata": {
        "id": "FI-u-9F59N44"
      },
      "source": [
        "### **PARTE 2.**\n",
        "\n",
        "Resubmeter as predições do modelo ajustado para o Kaggle. O desempenho do novo modelo foi superior, inferior ou igual (diferença menor que 0.03)."
      ]
    },
    {
      "cell_type": "code",
      "metadata": {
        "id": "JB6zi39o5e7R"
      },
      "source": [
        "modelo.fit(X,y)\n",
        "y_pred = modelo.predict(test)\n",
        "result = test[['PassengerId']]\n",
        "result['Survived'] = y_pred\n",
        "result.to_csv('submission.csv',index=False)\n",
        "clear_output()"
      ],
      "execution_count": null,
      "outputs": []
    },
    {
      "cell_type": "markdown",
      "metadata": {
        "id": "OVu8Uye48eOW"
      },
      "source": [
        "**O desempenho do novo modelo foi superior, inferior ou igual (diferença menor que 0.03).**\n",
        "\n",
        "O **desempenho(Score) no KAGGLE** do **Modelo anterior** (código inicial apresentado pelo Prof.) **foi de aproximadamente 0.77**. Já **o NOVO Modelo** apresentado acima (após diversos reajustes e testes) teve seu de desepenho(Score) de no **máximo (aproximadamente) 0.80134**, praticamente uma **diferença de 0.03**.\n"
      ]
    }
  ]
}