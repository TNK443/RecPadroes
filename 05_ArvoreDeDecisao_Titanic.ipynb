{
  "nbformat": 4,
  "nbformat_minor": 0,
  "metadata": {
    "colab": {
      "name": "05_ArvoreDeDecisao_Titanic.ipynb",
      "provenance": [],
      "authorship_tag": "ABX9TyP/yUqWnlT35QdaqH3o1rLn",
      "include_colab_link": true
    },
    "kernelspec": {
      "name": "python3",
      "display_name": "Python 3"
    },
    "language_info": {
      "name": "python"
    }
  },
  "cells": [
    {
      "cell_type": "markdown",
      "metadata": {
        "id": "view-in-github",
        "colab_type": "text"
      },
      "source": [
        "<a href=\"https://colab.research.google.com/github/TNK443/RecPadroes/blob/main/05_ArvoreDeDecisao_Titanic.ipynb\" target=\"_parent\"><img src=\"https://colab.research.google.com/assets/colab-badge.svg\" alt=\"Open In Colab\"/></a>"
      ]
    },
    {
      "cell_type": "code",
      "metadata": {
        "id": "JYTo83dxFD5V"
      },
      "source": [
        "import pandas as pd\n",
        "import numpy  as np"
      ],
      "execution_count": 1,
      "outputs": []
    },
    {
      "cell_type": "code",
      "metadata": {
        "id": "4NX4jRhH9Hez"
      },
      "source": [
        "# CRIANDO UM PIPELINE COMPLETO PARA PREPROCESSAMENTO.\n",
        "train = pd.read_csv('train.csv')\n",
        "test  = pd.read_csv('test.csv')\n",
        "\n",
        "X = train.drop('Survived', axis=1)\n",
        "y = train['Survived']"
      ],
      "execution_count": 2,
      "outputs": []
    },
    {
      "cell_type": "code",
      "metadata": {
        "id": "oxAZ78Mr9LeY"
      },
      "source": [
        "from sklearn.base import BaseEstimator, TransformerMixin\n",
        "from sklearn.pipeline import Pipeline\n",
        "from sklearn.pipeline import FeatureUnion\n",
        "from sklearn.impute import SimpleImputer\n",
        "from sklearn.preprocessing import StandardScaler\n",
        "from sklearn.preprocessing import OneHotEncoder\n",
        "from sklearn.metrics import accuracy_score\n",
        "from sklearn.model_selection import cross_validate\n",
        "from sklearn.model_selection import GridSearchCV\n",
        "from sklearn.tree import DecisionTreeClassifier\n",
        "\n",
        "# ----------------------------------------------------------------------------------------------------\n",
        "class AtributosDesejados(BaseEstimator, TransformerMixin):\n",
        "    def fit(self, X, y=None):\n",
        "        self.colunasIndesejadas = ['PassengerId','Name','Ticket','Cabin']\n",
        "        return self\n",
        "    \n",
        "    def transform(self, X, y=None):\n",
        "        return X.drop(self.colunasIndesejadas, axis=1)\n",
        "# ----------------------------------------------------------------------------------------------------\n",
        "class AtributosNumericos(BaseEstimator, TransformerMixin):\n",
        "    def fit(self, X, y=None):\n",
        "        self.colunasNumericas = X.select_dtypes(include='number').columns\n",
        "        return self\n",
        "    \n",
        "    def transform(self, X, y=None):\n",
        "        return X[self.colunasNumericas]\n",
        "# ----------------------------------------------------------------------------------------------------\n",
        "class AtributosCategoricos(BaseEstimator, TransformerMixin):\n",
        "    def fit(self, X, y=None):\n",
        "        self.colunasCategoricas = X.select_dtypes(include='object').columns\n",
        "        return self\n",
        "    \n",
        "    def transform(self, X, y=None):\n",
        "        return X[self.colunasCategoricas]\n",
        "# ----------------------------------------------------------------------------------------------------\n",
        "# ----------------------------------------------------------------------------------------------------\n",
        "# PIPELINES #\n",
        "\n",
        "pipenum = Pipeline([\n",
        "                    ('atributos_numericos', AtributosNumericos()),\n",
        "                    ('imputer', SimpleImputer(strategy='median')),\n",
        "                    ('scaler', StandardScaler())\n",
        "                   ])\n",
        "\n",
        "pipecat = Pipeline([\n",
        "                    ('atributos_categoricos', AtributosCategoricos()),\n",
        "                    ('imputer', SimpleImputer(strategy='most_frequent')),\n",
        "                    ('encoder', OneHotEncoder())\n",
        "                   ])\n",
        "# ----------------------------------------------------------------------------------------------------\n",
        "#FeatureUnion# \n",
        "uneCaracteristicas = FeatureUnion([\n",
        "                                   ('pipenum', pipenum),\n",
        "                                   ('pipecat', pipecat)\n",
        "                                  ])\n",
        "# ----------------------------------------------------------------------------------------------------\n",
        "preproc = Pipeline([\n",
        "                    ('atributos_desejados',AtributosDesejados()),\n",
        "                    ('unecaracteristicas', uneCaracteristicas)\n",
        "                   ])\n",
        "\n",
        "pipetotal = Pipeline([\n",
        "                      ('preproc', preproc),\n",
        "                      ('arvore', DecisionTreeClassifier())\n",
        "                    ])\n",
        "# ----------------------------------------------------------------------------------------------------"
      ],
      "execution_count": 3,
      "outputs": []
    },
    {
      "cell_type": "code",
      "metadata": {
        "id": "Qvam_lQESXaJ"
      },
      "source": [
        "# ----------------------------------------------------------------------------------------------------\n",
        "parametros = {\n",
        "    'arvore__max_depth': [5],         #list(range(1,20,2)),\n",
        "    'arvore__criterion': ['entropy'], #['gini','entropy'],\n",
        "    'arvore__min_samples_split': [7], #list(range(2,10,1)),\n",
        "    'arvore__min_samples_leaf': [1],  #list(range(1,10,1)),\n",
        "    'arvore__splitter': ['random']    #['best', 'random']\n",
        "}\n",
        "# TESTEI DIVERSOS NOVOS PARAMETROS, PARA CONSEGUIR UM SCORE MELHOR.\n",
        "modelo = GridSearchCV(pipetotal, param_grid=parametros)\n",
        "# ----------------------------------------------------------------------------------------------------\n"
      ],
      "execution_count": 4,
      "outputs": []
    },
    {
      "cell_type": "code",
      "metadata": {
        "colab": {
          "base_uri": "https://localhost:8080/"
        },
        "id": "F1G6LLZcX5ds",
        "outputId": "ec5d78a2-69fa-462e-bf40-9f0deecd3ff5"
      },
      "source": [
        "modelo.best_params_"
      ],
      "execution_count": 70,
      "outputs": [
        {
          "output_type": "execute_result",
          "data": {
            "text/plain": [
              "{'arvore__criterion': 'entropy',\n",
              " 'arvore__max_depth': 5,\n",
              " 'arvore__min_samples_leaf': 1,\n",
              " 'arvore__min_samples_split': 7,\n",
              " 'arvore__splitter': 'random'}"
            ]
          },
          "metadata": {
            "tags": []
          },
          "execution_count": 70
        }
      ]
    },
    {
      "cell_type": "markdown",
      "metadata": {
        "id": "duc0NsfHqOA3"
      },
      "source": [
        "# **GO!!!**"
      ]
    },
    {
      "cell_type": "code",
      "metadata": {
        "colab": {
          "base_uri": "https://localhost:8080/"
        },
        "id": "YS_4Eb8ESqdB",
        "outputId": "430a51db-4efd-48d5-8509-a36a326fbae0"
      },
      "source": [
        "# ----------------------------------------------------------------------------------------------------\n",
        "modelo.fit(X, y)\n",
        "y_pred = modelo.predict(test)\n",
        "\n",
        "scores   = cross_validate(modelo, X, y)\n",
        "\n",
        "print(\"--------------------------------------------------\")\n",
        "print()\n",
        "print(\"Scores:\",scores)\n",
        "print()\n",
        "print(\"np.mean:\", np.mean(scores['test_score']))\n",
        "print()\n",
        "print(\"--------------------------------------------------\")\n",
        "# ----------------------------------------------------------------------------------------------------"
      ],
      "execution_count": 68,
      "outputs": [
        {
          "output_type": "stream",
          "text": [
            "--------------------------------------------------\n",
            "\n",
            "Scores: {'fit_time': array([0.13632178, 0.13650608, 0.13715315, 0.13843346, 0.12632465]), 'score_time': array([0.00852394, 0.00573492, 0.00572705, 0.00579906, 0.00547409]), 'test_score': array([0.76536313, 0.80337079, 0.83707865, 0.79775281, 0.83707865])}\n",
            "\n",
            "np.mean: 0.8081288054736049\n",
            "\n",
            "--------------------------------------------------\n"
          ],
          "name": "stdout"
        }
      ]
    },
    {
      "cell_type": "code",
      "metadata": {
        "colab": {
          "base_uri": "https://localhost:8080/"
        },
        "id": "JP6VMWWQsVM0",
        "outputId": "4151e76d-21cf-4ef9-83f7-2f2ddffd651e"
      },
      "source": [
        "modelo.cv_results_"
      ],
      "execution_count": 72,
      "outputs": [
        {
          "output_type": "execute_result",
          "data": {
            "text/plain": [
              "{'mean_fit_time': array([0.01524286]),\n",
              " 'mean_score_time': array([0.00588303]),\n",
              " 'mean_test_score': array([0.81375306]),\n",
              " 'param_arvore__criterion': masked_array(data=['entropy'],\n",
              "              mask=[False],\n",
              "        fill_value='?',\n",
              "             dtype=object),\n",
              " 'param_arvore__max_depth': masked_array(data=[5],\n",
              "              mask=[False],\n",
              "        fill_value='?',\n",
              "             dtype=object),\n",
              " 'param_arvore__min_samples_leaf': masked_array(data=[1],\n",
              "              mask=[False],\n",
              "        fill_value='?',\n",
              "             dtype=object),\n",
              " 'param_arvore__min_samples_split': masked_array(data=[7],\n",
              "              mask=[False],\n",
              "        fill_value='?',\n",
              "             dtype=object),\n",
              " 'param_arvore__splitter': masked_array(data=['random'],\n",
              "              mask=[False],\n",
              "        fill_value='?',\n",
              "             dtype=object),\n",
              " 'params': [{'arvore__criterion': 'entropy',\n",
              "   'arvore__max_depth': 5,\n",
              "   'arvore__min_samples_leaf': 1,\n",
              "   'arvore__min_samples_split': 7,\n",
              "   'arvore__splitter': 'random'}],\n",
              " 'rank_test_score': array([1], dtype=int32),\n",
              " 'split0_test_score': array([0.75977654]),\n",
              " 'split1_test_score': array([0.8258427]),\n",
              " 'split2_test_score': array([0.84831461]),\n",
              " 'split3_test_score': array([0.79775281]),\n",
              " 'split4_test_score': array([0.83707865]),\n",
              " 'std_fit_time': array([0.00075259]),\n",
              " 'std_score_time': array([0.00092878]),\n",
              " 'std_test_score': array([0.03179376])}"
            ]
          },
          "metadata": {
            "tags": []
          },
          "execution_count": 72
        }
      ]
    },
    {
      "cell_type": "markdown",
      "metadata": {
        "id": "6il5-NMWqGLp"
      },
      "source": [
        "# SUBMISSION"
      ]
    },
    {
      "cell_type": "code",
      "metadata": {
        "id": "Ru6elmDNRyp3"
      },
      "source": [
        "# ----------------------------------------------------------------------------------------------------"
      ],
      "execution_count": null,
      "outputs": []
    },
    {
      "cell_type": "code",
      "metadata": {
        "colab": {
          "base_uri": "https://localhost:8080/"
        },
        "id": "2L2_xP9m_BUW",
        "outputId": "114bc3aa-2caf-4fb1-85fb-e5696fe50123"
      },
      "source": [
        "result = test[['PassengerId']]\n",
        "result['Survived'] = y_pred\n",
        "result.to_csv('submission.csv',index=False)"
      ],
      "execution_count": 71,
      "outputs": [
        {
          "output_type": "stream",
          "text": [
            "/usr/local/lib/python3.7/dist-packages/ipykernel_launcher.py:2: SettingWithCopyWarning: \n",
            "A value is trying to be set on a copy of a slice from a DataFrame.\n",
            "Try using .loc[row_indexer,col_indexer] = value instead\n",
            "\n",
            "See the caveats in the documentation: https://pandas.pydata.org/pandas-docs/stable/user_guide/indexing.html#returning-a-view-versus-a-copy\n",
            "  \n"
          ],
          "name": "stderr"
        }
      ]
    },
    {
      "cell_type": "code",
      "metadata": {
        "id": "OjOWds0AR0cf"
      },
      "source": [
        "# ----------------------------------------------------------------------------------------------------"
      ],
      "execution_count": null,
      "outputs": []
    }
  ]
}