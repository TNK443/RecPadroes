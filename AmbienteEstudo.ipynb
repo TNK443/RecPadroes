{
  "nbformat": 4,
  "nbformat_minor": 0,
  "metadata": {
    "colab": {
      "name": "AmbienteEstudo.ipynb",
      "provenance": [],
      "collapsed_sections": [],
      "authorship_tag": "ABX9TyMVqPF5XjaAEOy3sLDVXnWJ",
      "include_colab_link": true
    },
    "kernelspec": {
      "name": "python3",
      "display_name": "Python 3"
    }
  },
  "cells": [
    {
      "cell_type": "markdown",
      "metadata": {
        "id": "view-in-github",
        "colab_type": "text"
      },
      "source": [
        "<a href=\"https://colab.research.google.com/github/TNK443/RecPadroes/blob/main/AmbienteEstudo.ipynb\" target=\"_parent\"><img src=\"https://colab.research.google.com/assets/colab-badge.svg\" alt=\"Open In Colab\"/></a>"
      ]
    },
    {
      "cell_type": "code",
      "metadata": {
        "id": "EEv8BPmgSmtw"
      },
      "source": [
        "# Para instalar as Bibliotecas.\n",
        "# COLAB já possui elas.\n",
        "\n",
        "# pip install -U jupyter matplotlib numpy pandas scipy scikit-learn"
      ],
      "execution_count": null,
      "outputs": []
    },
    {
      "cell_type": "code",
      "metadata": {
        "id": "Qg7b1UKASuFx"
      },
      "source": [
        "# Importar as Lib's para o uso.\n",
        "import jupyter\n",
        "import matplotlib\n",
        "import numpy\n",
        "import pandas\n",
        "import scipy\n",
        "import sklearn"
      ],
      "execution_count": null,
      "outputs": []
    }
  ]
}