{
  "nbformat": 4,
  "nbformat_minor": 0,
  "metadata": {
    "colab": {
      "name": "02_Classificacao_Tarefa.ipynb",
      "provenance": [],
      "authorship_tag": "ABX9TyONGEQ0PdcUytCBc5xp8AVj",
      "include_colab_link": true
    },
    "kernelspec": {
      "name": "python3",
      "display_name": "Python 3"
    }
  },
  "cells": [
    {
      "cell_type": "markdown",
      "metadata": {
        "id": "view-in-github",
        "colab_type": "text"
      },
      "source": [
        "<a href=\"https://colab.research.google.com/github/TNK443/RecPadroes/blob/main/02_Classificacao_Tarefa.ipynb\" target=\"_parent\"><img src=\"https://colab.research.google.com/assets/colab-badge.svg\" alt=\"Open In Colab\"/></a>"
      ]
    },
    {
      "cell_type": "markdown",
      "metadata": {
        "id": "oQwpnU6r9KQs"
      },
      "source": [
        "# **Resolvendo um Problema de Classificação**\n",
        "\n",
        "1) Carregue uma base de dados de classificação (binária ou multiclasse, mas não multirrótulo) que NÃO esteja nos toy datasets do scikit-learn;\n",
        "\n",
        "2) Treine um modelo da classe LogisticRegression do scikit-learn com toda a base;\n",
        "\n",
        "3) Calcule o MSE (erro quadrático médio) para todos os exemplos da usada como treino no modelo treinado;\n",
        "\n",
        "4) Plote 3 gráficos (2D) o MSE em função do atributo intercept_ da classe LogisticRegression. Mantenha os valores do atributo coef_ fixos e varie o valor de intercept_ entre intercept_ - delta e intercept_ + delta.\n",
        "\n",
        "> 4.1) Diferentemente da tarefa de regressão, o gráfico do erro da classificação, muito provavelmente, não terá a aparência \"bem comportada\" que o gráfico do erro da regressão teve. Por isso, você precisará encontrar 3 deltas (um para cada gráfico). Cada delta provavelmente apresentará uma impressão diferente do comportamento da função de erro.\n",
        "> \n",
        "> 4.2) O atributo intercept_ da classe LogisticRegression é um array que guarda o valor de interceptação de cada classe do problema da base de dados. Portanto, será necessário fazer 3 gráficos para cada valor do intercept_. Exemplo: problema com 3 classes, 9 gráficos.\n",
        "\n",
        "\n",
        "\n",
        "\n"
      ]
    },
    {
      "cell_type": "code",
      "metadata": {
        "id": "c84043TK9Iji"
      },
      "source": [
        "# ================================================================================\n",
        "#                               BIBLIOTECAS\n",
        "# ================================================================================\n",
        "import matplotlib.pyplot as plt\n",
        "import numpy as np\n",
        "\n",
        "from IPython.display import clear_output\n",
        "# ================================================================================"
      ],
      "execution_count": 1,
      "outputs": []
    },
    {
      "cell_type": "markdown",
      "metadata": {
        "id": "Id1lg8NH96Zz"
      },
      "source": [
        "## 1) Carregue uma base de dados de classificação (binária ou multiclasse, mas não multirrótulo) que NÃO esteja nos toy datasets do scikit-learn;"
      ]
    },
    {
      "cell_type": "code",
      "metadata": {
        "colab": {
          "base_uri": "https://localhost:8080/"
        },
        "id": "QmDTGx3J-AI3",
        "outputId": "5b7710d1-f5cf-46d5-e088-129b86f7dfbf"
      },
      "source": [
        "# ================================================================================\n",
        "#                                 CODIGO I\n",
        "# ================================================================================\n",
        "\n",
        "# CARREGANDO A BASE ESCOLHIDA\n",
        "# Load the covertype dataset (classification).\n",
        "from sklearn.datasets import fetch_covtype\n",
        "clear_output()\n",
        "\n",
        "covtype = fetch_covtype()\n",
        "\n",
        "print('=' * 100)\n",
        "\n",
        "print('-' * 80)\n",
        "print(\"[SKLEARN.DATASETS.FETCH_COVTYPE]\")\n",
        "print(\"Load the covertype dataset (classification).\")\n",
        "print()\n",
        "print(covtype.keys())\n",
        "print()\n",
        "print('-' * 80)\n",
        "\n",
        "print('=' * 100)\n",
        "# ================================================================================"
      ],
      "execution_count": 2,
      "outputs": [
        {
          "output_type": "stream",
          "text": [
            "====================================================================================================\n",
            "--------------------------------------------------------------------------------\n",
            "[SKLEARN.DATASETS.FETCH_COVTYPE]\n",
            "Load the covertype dataset (classification).\n",
            "\n",
            "dict_keys(['data', 'target', 'DESCR'])\n",
            "\n",
            "--------------------------------------------------------------------------------\n",
            "====================================================================================================\n"
          ],
          "name": "stdout"
        }
      ]
    },
    {
      "cell_type": "code",
      "metadata": {
        "colab": {
          "base_uri": "https://localhost:8080/",
          "height": 1000
        },
        "id": "5gkwIUBzBo2D",
        "outputId": "f67e0a87-4cde-4f8a-9582-d9b56a0a0125"
      },
      "source": [
        "# ================================================================================\n",
        "#                                 CODIGO II\n",
        "# ================================================================================\n",
        "# DEMONSTRANDO O CONTEUDO E DIMENSOES DA BASE\n",
        "# --------------------------------------------------------------------------------\n",
        "X, y = covtype.data, covtype.target\n",
        "print(\"X.shape:\" ,X.shape, \" || \", \"y.shape\", y.shape, \" || \", \"set(y)\", set(y))\n",
        "# --------------------------------------------------------------------------------\n",
        "print('-' * 100)\n",
        "# --------------------------------------------------------------------------------\n",
        "# for i in range(X.shape[1]):\n",
        "for i in range(10):\n",
        "    print()\n",
        "    print(\"CARACTERISTICA(DIMENSAO): \", i)\n",
        "    print()\n",
        "    plt.ylabel(\"Classificação\")\n",
        "    plt.scatter(X[:,i], y)\n",
        "    plt.show()\n",
        "# --------------------------------------------------------------------------------\n",
        "print('-' * 100)\n",
        "# ================================================================================"
      ],
      "execution_count": 3,
      "outputs": [
        {
          "output_type": "stream",
          "text": [
            "X.shape: (581012, 54)  ||  y.shape (581012,)  ||  set(y) {1, 2, 3, 4, 5, 6, 7}\n",
            "----------------------------------------------------------------------------------------------------\n",
            "\n",
            "CARACTERISTICA(DIMENSAO):  0\n",
            "\n"
          ],
          "name": "stdout"
        },
        {
          "output_type": "display_data",
          "data": {
            "image/png": "[encoded data removed]",
            "text/plain": [
              "<Figure size 432x288 with 1 Axes>"
            ]
          },
          "metadata": {
            "tags": [],
            "needs_background": "light"
          }
        },
        {
          "output_type": "stream",
          "text": [
            "\n",
            "CARACTERISTICA(DIMENSAO):  1\n",
            "\n"
          ],
          "name": "stdout"
        },
        {
          "output_type": "display_data",
          "data": {
            "image/png": "[encoded data removed]",
            "text/plain": [
              "<Figure size 432x288 with 1 Axes>"
            ]
          },
          "metadata": {
            "tags": [],
            "needs_background": "light"
          }
        },
        {
          "output_type": "stream",
          "text": [
            "\n",
            "CARACTERISTICA(DIMENSAO):  2\n",
            "\n"
          ],
          "name": "stdout"
        },
        {
          "output_type": "display_data",
          "data": {
            "image/png": "[encoded data removed]",
            "text/plain": [
              "<Figure size 432x288 with 1 Axes>"
            ]
          },
          "metadata": {
            "tags": [],
            "needs_background": "light"
          }
        },
        {
          "output_type": "stream",
          "text": [
            "\n",
            "CARACTERISTICA(DIMENSAO):  3\n",
            "\n"
          ],
          "name": "stdout"
        },
        {
          "output_type": "display_data",
          "data": {
            "image/png": "[encoded data removed]",
            "text/plain": [
              "<Figure size 432x288 with 1 Axes>"
            ]
          },
          "metadata": {
            "tags": [],
            "needs_background": "light"
          }
        },
        {
          "output_type": "stream",
          "text": [
            "\n",
            "CARACTERISTICA(DIMENSAO):  4\n",
            "\n"
          ],
          "name": "stdout"
        },
        {
          "output_type": "display_data",
          "data": {
            "image/png": "[encoded data removed]",
            "text/plain": [
              "<Figure size 432x288 with 1 Axes>"
            ]
          },
          "metadata": {
            "tags": [],
            "needs_background": "light"
          }
        },
        {
          "output_type": "stream",
          "text": [
            "\n",
            "CARACTERISTICA(DIMENSAO):  5\n",
            "\n"
          ],
          "name": "stdout"
        },
        {
          "output_type": "display_data",
          "data": {
            "image/png": "[encoded data removed]",
            "text/plain": [
              "<Figure size 432x288 with 1 Axes>"
            ]
          },
          "metadata": {
            "tags": [],
            "needs_background": "light"
          }
        },
        {
          "output_type": "stream",
          "text": [
            "\n",
            "CARACTERISTICA(DIMENSAO):  6\n",
            "\n"
          ],
          "name": "stdout"
        },
        {
          "output_type": "display_data",
          "data": {
            "image/png": "[encoded data removed]",
            "text/plain": [
              "<Figure size 432x288 with 1 Axes>"
            ]
          },
          "metadata": {
            "tags": [],
            "needs_background": "light"
          }
        },
        {
          "output_type": "stream",
          "text": [
            "\n",
            "CARACTERISTICA(DIMENSAO):  7\n",
            "\n"
          ],
          "name": "stdout"
        },
        {
          "output_type": "display_data",
          "data": {
            "image/png": "[encoded data removed]",
            "text/plain": [
              "<Figure size 432x288 with 1 Axes>"
            ]
          },
          "metadata": {
            "tags": [],
            "needs_background": "light"
          }
        },
        {
          "output_type": "stream",
          "text": [
            "\n",
            "CARACTERISTICA(DIMENSAO):  8\n",
            "\n"
          ],
          "name": "stdout"
        },
        {
          "output_type": "display_data",
          "data": {
            "image/png": "[encoded data removed]",
            "text/plain": [
              "<Figure size 432x288 with 1 Axes>"
            ]
          },
          "metadata": {
            "tags": [],
            "needs_background": "light"
          }
        },
        {
          "output_type": "stream",
          "text": [
            "\n",
            "CARACTERISTICA(DIMENSAO):  9\n",
            "\n"
          ],
          "name": "stdout"
        },
        {
          "output_type": "display_data",
          "data": {
            "image/png": "[encoded data removed]",
            "text/plain": [
              "<Figure size 432x288 with 1 Axes>"
            ]
          },
          "metadata": {
            "tags": [],
            "needs_background": "light"
          }
        },
        {
          "output_type": "stream",
          "text": [
            "----------------------------------------------------------------------------------------------------\n"
          ],
          "name": "stdout"
        }
      ]
    },
    {
      "cell_type": "markdown",
      "metadata": {
        "id": "jO59Klht-Alo"
      },
      "source": [
        "## 2) Treine um modelo da classe LogisticRegression do scikit-learn com toda a base;"
      ]
    },
    {
      "cell_type": "code",
      "metadata": {
        "colab": {
          "base_uri": "https://localhost:8080/"
        },
        "id": "uYC85F_V-EoO",
        "outputId": "98849cd8-36bc-478b-97dd-34f0185295d2"
      },
      "source": [
        "# ================================================================================\n",
        "#                                 CODIGO III\n",
        "# ================================================================================\n",
        "from sklearn.linear_model import LogisticRegression\n",
        "\n",
        "modelo = LogisticRegression()\n",
        "modelo.fit(X, y)\n",
        "ypred = modelo.predict(X)\n",
        "\n",
        "print('-' * 100)\n",
        "print(\"RESULTADO POS TREINAMENTO DA BASE [SKLEARN.DATASETS.FETCH_COVTYPE] COM O LOGISTICREGRESSION()\")\n",
        "print()\n",
        "print(\"Intercept(w0 / b) =\", modelo.intercept_)\n",
        "print()\n",
        "print(\"Coef(w1 / a) =\", modelo.coef_)\n",
        "print()\n",
        "print('-' * 100)\n",
        "# ================================================================================"
      ],
      "execution_count": 4,
      "outputs": [
        {
          "output_type": "stream",
          "text": [
            "----------------------------------------------------------------------------------------------------\n",
            "RESULTADO POS TREINAMENTO DA BASE [SKLEARN.DATASETS.FETCH_COVTYPE] COM O LOGISTICREGRESSION()\n",
            "\n",
            "Intercept(w0 / b) = [-1.22793330e-04  4.37948257e-05  7.84271620e-05  8.35599106e-06\n",
            "  1.76330671e-06  3.74986268e-05 -4.70465825e-05]\n",
            "\n",
            "Coef(w1 / a) = [[ 4.17604006e-03 -7.43607679e-04 -5.77384206e-03  9.07976556e-04\n",
            "  -9.35120483e-03  4.28843967e-04 -2.55476898e-02 -2.05933125e-02\n",
            "  -7.22875072e-03  2.40922101e-04  5.44873024e-05  9.67109296e-05\n",
            "  -1.53306027e-04 -1.20685534e-04 -8.66893046e-06 -2.63073606e-05\n",
            "  -1.63681473e-05 -4.62639080e-05 -4.59927808e-06 -2.07838368e-05\n",
            "  -4.88414334e-07 -1.47423210e-07 -1.72123605e-06 -1.26240821e-04\n",
            "  -4.48154994e-05 -9.09637060e-05 -6.18433012e-05 -1.80240658e-06\n",
            "  -8.48520521e-09 -2.87418882e-06 -1.08069967e-05 -4.86637202e-06\n",
            "   1.21412802e-05  9.93598993e-06  7.73243606e-06  1.78504266e-04\n",
            "   1.96181966e-04  2.85677246e-05 -1.00374159e-06 -8.59548159e-06\n",
            "   3.35228004e-06 -3.94883567e-06 -6.28254748e-05 -5.67291197e-05\n",
            "   2.58318771e-05  1.10774783e-05 -6.28498216e-07 -6.87719319e-06\n",
            "  -1.53573729e-06 -5.59866555e-07 -3.24667060e-06  9.60220700e-06\n",
            "   4.59189547e-06  5.20820111e-06]\n",
            " [-1.37707251e-03  8.14226729e-05  1.01033204e-03  1.89874528e-03\n",
            "  -3.35122702e-03  4.27527655e-04  8.91221336e-03  9.77059967e-03\n",
            "   6.42916795e-03  3.22223448e-04  1.94921671e-04 -5.26732068e-05\n",
            "   1.06750802e-04 -2.05204440e-04 -2.09329419e-05 -5.32019707e-05\n",
            "  -1.89095769e-05 -5.86211424e-05 -1.04887643e-05 -3.72203695e-05\n",
            "   5.46548357e-07  2.51361964e-07  7.27001079e-06 -5.07955020e-05\n",
            "   3.90270754e-05  1.32900798e-04  8.04844741e-05 -3.89940594e-06\n",
            "  -1.95858403e-08  1.92337811e-06 -1.41642935e-05  4.33210340e-06\n",
            "  -7.25154959e-06 -2.28844856e-09 -5.14264282e-06 -1.12295245e-04\n",
            "  -9.56202247e-05  1.28397711e-05  1.64423215e-06  9.54216480e-06\n",
            "  -1.76415870e-06  7.71133828e-06  1.97664331e-04  7.94412274e-05\n",
            "   2.53555091e-05  8.06517535e-05  8.16798214e-05  9.35203436e-06\n",
            "  -1.17573196e-05 -3.19866210e-07 -1.58937134e-06 -9.26344480e-05\n",
            "  -8.05551881e-05 -5.16372518e-05]\n",
            " [-2.55539792e-03  2.02090784e-03  3.75127961e-03  7.85994565e-04\n",
            "   7.58148720e-03 -2.85495806e-04  1.59746049e-02  1.40212387e-02\n",
            "   5.57304907e-03 -3.13564081e-04 -1.06632113e-04 -3.86798463e-05\n",
            "  -4.74957894e-06  2.28488700e-04  2.39642411e-05  6.75361661e-05\n",
            "   2.76182533e-05  1.05956581e-04  9.53152948e-06  4.69777235e-05\n",
            "  -6.24369278e-10 -1.65069330e-09 -2.57921670e-06  1.06603637e-04\n",
            "   7.62078261e-06 -1.05348018e-05 -2.07402701e-05 -2.92341748e-07\n",
            "  -1.02397432e-08 -4.03333567e-07  3.13707472e-06 -2.99610777e-07\n",
            "  -1.67094020e-06 -4.08470813e-06 -1.14622530e-06 -2.58668888e-05\n",
            "  -4.56449658e-05 -1.73480730e-05 -1.45645228e-07 -5.24784487e-07\n",
            "  -5.33488233e-07 -2.00027889e-06 -4.08038495e-05 -2.05067515e-05\n",
            "  -2.28984123e-05 -4.45328242e-05 -4.08703918e-05 -1.34417631e-06\n",
            "  -7.98903403e-07 -3.67440356e-08 -2.01765063e-08 -5.64240537e-06\n",
            "  -5.04849727e-06 -4.18760678e-06]\n",
            " [-6.38310559e-04  1.66144309e-04  2.18046558e-04 -2.74810026e-03\n",
            "   2.15843946e-04 -3.39470260e-04  2.68197034e-03  1.78063014e-03\n",
            "  -1.32325205e-04 -2.04830615e-04 -8.91716395e-06 -1.98151632e-06\n",
            "  -1.75971054e-05  3.68517767e-05  1.97300956e-06  7.17847924e-07\n",
            "   1.61930694e-05  1.20434725e-06  3.32441121e-07  4.03564996e-06\n",
            "  -9.06031928e-11 -2.24930359e-10 -2.41323086e-07 -2.57208531e-06\n",
            "  -6.53918060e-07 -9.05722479e-07 -1.42555304e-06  2.43555439e-06\n",
            "  -1.56953180e-09  6.38857773e-07  6.92862005e-06 -3.23243625e-08\n",
            "  -1.24774841e-07 -4.01860833e-07 -8.30076607e-08 -1.67786233e-06\n",
            "  -3.32090768e-06 -1.13155089e-06 -9.63551805e-09 -4.72046995e-08\n",
            "  -3.19995640e-08 -8.99142003e-08 -3.40196357e-06 -1.69270806e-06\n",
            "  -1.62067413e-06 -2.91986783e-06 -2.68754306e-06 -8.14841629e-08\n",
            "  -6.67672227e-08 -1.99546047e-09 -1.85899492e-09 -3.38358552e-07\n",
            "  -3.33329553e-07 -2.05326139e-07]\n",
            " [-1.69831064e-04 -1.84666434e-03  1.87954402e-04 -3.46818038e-05\n",
            "   1.28508079e-03 -2.06259068e-04  2.24409290e-03  3.10253629e-04\n",
            "  -2.28068428e-03  2.11005677e-05  1.23052464e-05 -9.65838161e-06\n",
            "   2.31952663e-05 -2.40788244e-05 -2.33839964e-06  8.51966194e-07\n",
            "  -2.97996273e-06  4.24359315e-06 -1.12671365e-06 -3.87781900e-06\n",
            "  -4.12896843e-09 -9.12788950e-09 -7.11273714e-07 -1.30658844e-05\n",
            "   6.33890207e-06 -6.57032516e-06  1.65936822e-05 -4.23218149e-07\n",
            "  -3.11883951e-09 -3.76298638e-07  8.42463906e-06  2.04505718e-06\n",
            "   4.69663117e-07 -1.50686335e-06 -2.96045223e-07 -7.86639875e-06\n",
            "  -3.39152340e-06 -4.43039575e-06 -1.64625183e-07  1.74508131e-06\n",
            "  -1.97660407e-07 -1.69076598e-07 -1.80000610e-06  2.78050337e-05\n",
            "  -1.47565836e-06 -5.16778671e-06 -3.54445144e-06  3.44415947e-08\n",
            "  -3.22659633e-07 -9.34286486e-09 -1.84229367e-08 -1.89709382e-06\n",
            "  -1.90771475e-06 -1.13675684e-06]\n",
            " [-8.82316879e-04  4.17925328e-03  1.44360987e-03 -1.91572806e-03\n",
            "   2.88954428e-03 -5.14088697e-04  4.43162557e-03  4.91745366e-03\n",
            "   5.46993347e-03 -2.52791194e-04 -6.28233653e-05 -1.74742097e-05\n",
            "   6.47178571e-06  1.11324416e-04  8.22873908e-06  1.55975805e-05\n",
            "  -2.14788071e-06  6.06736983e-07  7.59886935e-06  1.55197412e-05\n",
            "  -7.62019160e-10 -2.11729740e-09 -1.29316425e-06  1.11873705e-04\n",
            "   1.49526409e-06 -6.24949030e-06  1.85540269e-07  4.32351909e-06\n",
            "   4.49340142e-08  2.51494040e-06  8.49734795e-06 -3.38287346e-07\n",
            "  -1.12045740e-06  1.39412795e-06 -8.76360649e-07 -1.32026693e-05\n",
            "  -2.66581618e-05 -7.01848358e-06 -1.01227693e-07 -3.95510261e-07\n",
            "  -2.27853476e-07 -6.94164466e-07 -2.42762375e-05 -1.08489735e-05\n",
            "  -1.02052908e-05 -1.74353624e-05 -9.61387044e-06 -2.59284482e-07\n",
            "  -4.78706170e-07 -1.28885021e-08 -1.54583768e-08 -2.64957864e-06\n",
            "  -2.56764668e-06 -1.69253094e-06]\n",
            " [ 1.44688888e-03 -3.85745609e-03 -8.37380423e-04  1.10579372e-03\n",
            "   7.30475640e-04  4.88942209e-04 -8.69681726e-03 -1.02068633e-02\n",
            "  -7.83039028e-03  1.86939773e-04 -8.33415775e-05  2.37562311e-05\n",
            "   3.92348574e-05 -2.66960933e-05 -2.22571776e-06 -5.19422942e-06\n",
            "  -3.40575510e-06 -7.12620769e-06 -1.24808395e-06 -4.65108931e-06\n",
            "  -5.25280629e-08 -9.08179440e-08 -7.23796993e-07 -2.58030490e-05\n",
            "  -9.01260669e-06 -1.76767522e-05 -1.32545722e-05 -3.41701054e-07\n",
            "  -1.93485423e-09 -1.42335526e-06 -2.01639161e-06 -8.40566064e-07\n",
            "  -2.44322126e-06 -5.33439712e-06 -1.88154410e-07 -1.75952014e-05\n",
            "  -2.15461821e-05 -1.14789924e-05 -2.19356938e-07 -1.72426507e-06\n",
            "  -5.97119655e-07 -8.09068462e-07 -6.45567995e-05 -1.74687084e-05\n",
            "  -1.49873505e-05 -2.16733907e-05 -2.43350665e-05 -8.24337817e-07\n",
            "   1.49600933e-05  9.40703628e-07  4.89195876e-06  9.35596773e-05\n",
            "   8.58204808e-05  5.36512714e-05]]\n",
            "\n",
            "----------------------------------------------------------------------------------------------------\n"
          ],
          "name": "stdout"
        },
        {
          "output_type": "stream",
          "text": [
            "/usr/local/lib/python3.6/dist-packages/sklearn/linear_model/_logistic.py:940: ConvergenceWarning: lbfgs failed to converge (status=1):\n",
            "STOP: TOTAL NO. of ITERATIONS REACHED LIMIT.\n",
            "\n",
            "Increase the number of iterations (max_iter) or scale the data as shown in:\n",
            "    https://scikit-learn.org/stable/modules/preprocessing.html\n",
            "Please also refer to the documentation for alternative solver options:\n",
            "    https://scikit-learn.org/stable/modules/linear_model.html#logistic-regression\n",
            "  extra_warning_msg=_LOGISTIC_SOLVER_CONVERGENCE_MSG)\n"
          ],
          "name": "stderr"
        }
      ]
    },
    {
      "cell_type": "markdown",
      "metadata": {
        "id": "yuzYLRq3-E07"
      },
      "source": [
        "## 3) Calcule o MSE (erro quadrático médio) para todos os exemplos da usada como treino no modelo treinado;"
      ]
    },
    {
      "cell_type": "code",
      "metadata": {
        "colab": {
          "base_uri": "https://localhost:8080/"
        },
        "id": "6f-R_t_L-Im0",
        "outputId": "26dae9a7-61bd-43d6-f100-73b599fa9a90"
      },
      "source": [
        "# ================================================================================\n",
        "#                                 CODIGO IV\n",
        "# ================================================================================\n",
        "from sklearn.metrics import mean_squared_error\n",
        "\n",
        "print('-' * 100)\n",
        "print()\n",
        "print(\"MSE (Erro Quadrático Médio) da BASE [SKLEARN.DATASETS.FETCH_COVTYPE]\")\n",
        "print()\n",
        "print(\"MSE =\", mean_squared_error(y, ypred))\n",
        "print()\n",
        "print('-' * 100)\n",
        "# ================================================================================"
      ],
      "execution_count": 5,
      "outputs": [
        {
          "output_type": "stream",
          "text": [
            "----------------------------------------------------------------------------------------------------\n",
            "\n",
            "MSE (Erro Quadrático Médio) da BASE [SKLEARN.DATASETS.FETCH_COVTYPE]\n",
            "\n",
            "MSE = 2.211093746772872\n",
            "\n",
            "----------------------------------------------------------------------------------------------------\n"
          ],
          "name": "stdout"
        }
      ]
    },
    {
      "cell_type": "markdown",
      "metadata": {
        "id": "a79UuYIr-I0J"
      },
      "source": [
        "## 4) Plote 3 gráficos (2D) o MSE em função do atributo intercept_ da classe LogisticRegression. Mantenha os valores do atributo coef_ fixos e varie o valor de intercept_ entre intercept_ - delta e intercept_ + delta."
      ]
    },
    {
      "cell_type": "code",
      "metadata": {
        "id": "S63_NGgP-NkQ"
      },
      "source": [
        "# --------------------------------------------------------------------------------\n",
        "\n",
        "# --------------------------------------------------------------------------------"
      ],
      "execution_count": null,
      "outputs": []
    },
    {
      "cell_type": "markdown",
      "metadata": {
        "id": "0adhq2Lb-Nyo"
      },
      "source": [
        "### 4.1) Diferentemente da tarefa de regressão, o gráfico do erro da classificação, muito provavelmente, não terá a aparência \"bem comportada\" que o gráfico do erro da regressão teve. Por isso, você precisará encontrar 3 deltas (um para cada gráfico). Cada delta provavelmente apresentará uma impressão diferente do comportamento da função de erro."
      ]
    },
    {
      "cell_type": "code",
      "metadata": {
        "id": "O50z2Mwg-Uk4"
      },
      "source": [
        ""
      ],
      "execution_count": null,
      "outputs": []
    },
    {
      "cell_type": "markdown",
      "metadata": {
        "id": "SeGqj4jF-VRT"
      },
      "source": [
        "### 4.2) O atributo intercept_ da classe LogisticRegression é um array que guarda o valor de interceptação de cada classe do problema da base de dados. Portanto, será necessário fazer 3 gráficos para cada valor do intercept_. Exemplo: problema com 3 classes, 9 gráficos."
      ]
    },
    {
      "cell_type": "code",
      "metadata": {
        "id": "Isp6Zrti-aGE"
      },
      "source": [
        ""
      ],
      "execution_count": null,
      "outputs": []
    }
  ]
}